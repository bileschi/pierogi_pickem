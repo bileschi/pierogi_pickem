{
 "cells": [
  {
   "cell_type": "code",
   "execution_count": 2,
   "id": "774feaa3-3a76-4563-9795-54219dbdc8d8",
   "metadata": {},
   "outputs": [],
   "source": [
    "import time\n",
    "from selenium import webdriver\n",
    "from selenium.common.exceptions import TimeoutException\n",
    "from selenium.common.exceptions import NoSuchElementException\n",
    "from selenium.webdriver.support.ui import WebDriverWait # available since 2.4.0\n",
    "from selenium.webdriver.support import expected_conditions as EC # available since 2.26.0\n",
    "from selenium.webdriver.common.keys import Keys\n",
    "from selenium.webdriver.common.by import By\n",
    "from selenium.webdriver.common.action_chains import ActionChains\n",
    "from pywebcopy import save_website\n",
    "# from pywebcopy import WebPage\n",
    "import pywebcopy\n",
    "from bs4 import BeautifulSoup\n",
    "import pandas as pd\n",
    "# pywebcopy.config['bypass_robots'] = True\n",
    "from datetime import datetime\n"
   ]
  },
  {
   "cell_type": "code",
   "execution_count": 7,
   "id": "347cf690-df20-49d5-bcc7-9faea29b18e2",
   "metadata": {},
   "outputs": [],
   "source": [
    "driver = webdriver.Chrome()"
   ]
  },
  {
   "cell_type": "code",
   "execution_count": 8,
   "id": "211e3cca",
   "metadata": {},
   "outputs": [],
   "source": [
    "driver.get(\"https://www.selenium.dev/selenium/web/web-form.html\")"
   ]
  },
  {
   "cell_type": "code",
   "execution_count": 10,
   "id": "a37360a8",
   "metadata": {},
   "outputs": [
    {
     "name": "stdout",
     "output_type": "stream",
     "text": [
      "Web form\n"
     ]
    }
   ],
   "source": [
    "title = driver.title\n",
    "print(title)"
   ]
  },
  {
   "cell_type": "code",
   "execution_count": 12,
   "id": "cf2aecd7",
   "metadata": {},
   "outputs": [],
   "source": [
    "driver.implicitly_wait(0.5)"
   ]
  },
  {
   "cell_type": "code",
   "execution_count": 41,
   "id": "dcf548f9",
   "metadata": {},
   "outputs": [],
   "source": [
    "driver.get(\"https://fantasy.espn.com/games/nfl-pigskin-pickem-2023/picks?id=385fbc90-4b71-11ee-85db-77e9d8fab8a0\")"
   ]
  },
  {
   "cell_type": "code",
   "execution_count": 42,
   "id": "3cd8ce80",
   "metadata": {},
   "outputs": [],
   "source": [
    "page_source = driver.page_source"
   ]
  },
  {
   "cell_type": "code",
   "execution_count": 35,
   "id": "f3dbdff7",
   "metadata": {},
   "outputs": [],
   "source": [
    "soup = BeautifulSoup(page_source, 'html.parser')\n"
   ]
  },
  {
   "cell_type": "code",
   "execution_count": 45,
   "id": "d5e2834d",
   "metadata": {},
   "outputs": [],
   "source": [
    "# week_button_class = \"CarouselSlide relative pointer CarouselSlide--inView\"\n",
    "\n",
    "week_button_class = \"CarouselSlide relative pointer\"\n",
    "week_buttons = soup.find_all('li', class_=week_button_class)"
   ]
  },
  {
   "cell_type": "code",
   "execution_count": 37,
   "id": "3f71b5a7",
   "metadata": {},
   "outputs": [
    {
     "data": {
      "text/plain": [
       "13"
      ]
     },
     "execution_count": 37,
     "metadata": {},
     "output_type": "execute_result"
    }
   ],
   "source": [
    "len(week_buttons)"
   ]
  },
  {
   "cell_type": "code",
   "execution_count": 46,
   "id": "999191c3",
   "metadata": {},
   "outputs": [
    {
     "name": "stdout",
     "output_type": "stream",
     "text": [
      "Week 5\n",
      "Week 6\n",
      "Week 7\n",
      "Week 8\n",
      "Week 10\n",
      "Week 11\n",
      "Week 12\n",
      "Week 13\n",
      "Week 14\n",
      "Week 15\n",
      "Week 16\n",
      "Week 17\n",
      "Week 18\n"
     ]
    }
   ],
   "source": [
    "for button in week_buttons:\n",
    "  print(button.find('h4').get_text())"
   ]
  }
 ],
 "metadata": {
  "kernelspec": {
   "display_name": "Python 3 (ipykernel)",
   "language": "python",
   "name": "python3"
  },
  "language_info": {
   "codemirror_mode": {
    "name": "ipython",
    "version": 3
   },
   "file_extension": ".py",
   "mimetype": "text/x-python",
   "name": "python",
   "nbconvert_exporter": "python",
   "pygments_lexer": "ipython3",
   "version": "3.9.6"
  }
 },
 "nbformat": 4,
 "nbformat_minor": 5
}
